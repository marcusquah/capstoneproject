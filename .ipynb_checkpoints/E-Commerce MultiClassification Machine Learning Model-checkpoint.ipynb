{
 "cells": [
  {
   "cell_type": "markdown",
   "metadata": {},
   "source": [
    "# Introduction\n",
    "Otto Group Product Classification: https://www.kaggle.com/c/otto-group-product-classification-challenge/data\n",
    "\n",
    "<img src=\"files/Capture.jpg\">\n",
    "\n",
    "Otto Group is an e-commerce company. Otto has many new product listings and many of them gets classified under the wrong category. Misclassified products disrupts the analysis of the category performance. To ensure accurate analysis of the category, we need to accurately classify new products under the right category\n",
    "\n",
    "93 numerical features\n",
    "9 product categories\n",
    "61878 rows, 94 columns\n",
    "Product categories and features are anonamalize, purely crunching numbers."
   ]
  },
  {
   "cell_type": "markdown",
   "metadata": {},
   "source": [
    "# Goal - Accurately classify new product listing under the right category."
   ]
  },
  {
   "cell_type": "markdown",
   "metadata": {},
   "source": [
    "## Executive Summary\n",
    "\n",
    "#### - Our goal is to accurately classify new listed products under the right category. \n",
    "\n",
    "#### - Our metrics are the overall prediction accuracy of the model, precision(true positive), recall(true negative). \n",
    "\n",
    "#### - Our findings are that with most general machine learning models, prediction accuracy hovers around the 0.70 range. It is hard to increase the prediction accuracy due certain product categories having overlapping features that make it hard to accurately predict. \n",
    "\n",
    "#### Assumptions - New products listed will have very identical features to the products listed in the category that they supposedy belong. We trust that the data is correct. It is is hard to input numerical feautures. Applying in the real world context, we assume that new products can all be categorized in the 9 categories and can be rated in the 93 numerical features. "
   ]
  },
  {
   "cell_type": "markdown",
   "metadata": {},
   "source": [
    "# Import packages"
   ]
  },
  {
   "cell_type": "code",
   "execution_count": 34,
   "metadata": {
    "collapsed": true
   },
   "outputs": [],
   "source": [
    "import numpy as np\n",
    "import pandas as pd\n",
    "from sklearn import model_selection\n",
    "from sklearn.linear_model import LogisticRegression\n",
    "from sklearn.tree import DecisionTreeClassifier\n",
    "from sklearn.metrics import confusion_matrix\n",
    "from sklearn.model_selection import train_test_split\n",
    "from sklearn.metrics import classification_report, roc_auc_score\n",
    "import matplotlib.pyplot as plt\n",
    "import scipy.stats as stats\n",
    "import seaborn as sns\n",
    "from sklearn.ensemble import ExtraTreesClassifier\n",
    "from sklearn.model_selection import GridSearchCV\n",
    "from sklearn.metrics import make_scorer\n",
    "from sklearn.metrics import precision_recall_fscore_support\n",
    "\n",
    "df = pd.read_csv(\"./datasets/train.csv\")\n",
    "df.drop('id', axis=1, inplace=True)\n"
   ]
  },
  {
   "cell_type": "markdown",
   "metadata": {},
   "source": [
    "# Exploratory Data Analysis\n",
    "## We check the dataset given to us and clean it up before training a machine learning model."
   ]
  },
  {
   "cell_type": "code",
   "execution_count": 35,
   "metadata": {},
   "outputs": [
    {
     "data": {
      "text/plain": [
       "(61878, 94)"
      ]
     },
     "execution_count": 35,
     "metadata": {},
     "output_type": "execute_result"
    }
   ],
   "source": [
    "df.shape"
   ]
  },
  {
   "cell_type": "code",
   "execution_count": 36,
   "metadata": {},
   "outputs": [
    {
     "data": {
      "text/plain": [
       "feat_1      int64\n",
       "feat_2      int64\n",
       "feat_3      int64\n",
       "feat_4      int64\n",
       "feat_5      int64\n",
       "feat_6      int64\n",
       "feat_7      int64\n",
       "feat_8      int64\n",
       "feat_9      int64\n",
       "feat_10     int64\n",
       "feat_11     int64\n",
       "feat_12     int64\n",
       "feat_13     int64\n",
       "feat_14     int64\n",
       "feat_15     int64\n",
       "feat_16     int64\n",
       "feat_17     int64\n",
       "feat_18     int64\n",
       "feat_19     int64\n",
       "feat_20     int64\n",
       "feat_21     int64\n",
       "feat_22     int64\n",
       "feat_23     int64\n",
       "feat_24     int64\n",
       "feat_25     int64\n",
       "feat_26     int64\n",
       "feat_27     int64\n",
       "feat_28     int64\n",
       "feat_29     int64\n",
       "feat_30     int64\n",
       "            ...  \n",
       "feat_65     int64\n",
       "feat_66     int64\n",
       "feat_67     int64\n",
       "feat_68     int64\n",
       "feat_69     int64\n",
       "feat_70     int64\n",
       "feat_71     int64\n",
       "feat_72     int64\n",
       "feat_73     int64\n",
       "feat_74     int64\n",
       "feat_75     int64\n",
       "feat_76     int64\n",
       "feat_77     int64\n",
       "feat_78     int64\n",
       "feat_79     int64\n",
       "feat_80     int64\n",
       "feat_81     int64\n",
       "feat_82     int64\n",
       "feat_83     int64\n",
       "feat_84     int64\n",
       "feat_85     int64\n",
       "feat_86     int64\n",
       "feat_87     int64\n",
       "feat_88     int64\n",
       "feat_89     int64\n",
       "feat_90     int64\n",
       "feat_91     int64\n",
       "feat_92     int64\n",
       "feat_93     int64\n",
       "target     object\n",
       "Length: 94, dtype: object"
      ]
     },
     "execution_count": 36,
     "metadata": {},
     "output_type": "execute_result"
    }
   ],
   "source": [
    "#check data types\n",
    "df.dtypes"
   ]
  },
  {
   "cell_type": "code",
   "execution_count": 37,
   "metadata": {},
   "outputs": [
    {
     "data": {
      "text/html": [
       "<div>\n",
       "<style>\n",
       "    .dataframe thead tr:only-child th {\n",
       "        text-align: right;\n",
       "    }\n",
       "\n",
       "    .dataframe thead th {\n",
       "        text-align: left;\n",
       "    }\n",
       "\n",
       "    .dataframe tbody tr th {\n",
       "        vertical-align: top;\n",
       "    }\n",
       "</style>\n",
       "<table border=\"1\" class=\"dataframe\">\n",
       "  <thead>\n",
       "    <tr style=\"text-align: right;\">\n",
       "      <th></th>\n",
       "      <th>feat_1</th>\n",
       "      <th>feat_2</th>\n",
       "      <th>feat_3</th>\n",
       "      <th>feat_4</th>\n",
       "      <th>feat_5</th>\n",
       "      <th>feat_6</th>\n",
       "      <th>feat_7</th>\n",
       "      <th>feat_8</th>\n",
       "      <th>feat_9</th>\n",
       "      <th>feat_10</th>\n",
       "      <th>...</th>\n",
       "      <th>feat_85</th>\n",
       "      <th>feat_86</th>\n",
       "      <th>feat_87</th>\n",
       "      <th>feat_88</th>\n",
       "      <th>feat_89</th>\n",
       "      <th>feat_90</th>\n",
       "      <th>feat_91</th>\n",
       "      <th>feat_92</th>\n",
       "      <th>feat_93</th>\n",
       "      <th>target</th>\n",
       "    </tr>\n",
       "  </thead>\n",
       "  <tbody>\n",
       "    <tr>\n",
       "      <th>0</th>\n",
       "      <td>1</td>\n",
       "      <td>0</td>\n",
       "      <td>0</td>\n",
       "      <td>0</td>\n",
       "      <td>0</td>\n",
       "      <td>0</td>\n",
       "      <td>0</td>\n",
       "      <td>0</td>\n",
       "      <td>0</td>\n",
       "      <td>0</td>\n",
       "      <td>...</td>\n",
       "      <td>1</td>\n",
       "      <td>0</td>\n",
       "      <td>0</td>\n",
       "      <td>0</td>\n",
       "      <td>0</td>\n",
       "      <td>0</td>\n",
       "      <td>0</td>\n",
       "      <td>0</td>\n",
       "      <td>0</td>\n",
       "      <td>Class_1</td>\n",
       "    </tr>\n",
       "    <tr>\n",
       "      <th>1</th>\n",
       "      <td>0</td>\n",
       "      <td>0</td>\n",
       "      <td>0</td>\n",
       "      <td>0</td>\n",
       "      <td>0</td>\n",
       "      <td>0</td>\n",
       "      <td>0</td>\n",
       "      <td>1</td>\n",
       "      <td>0</td>\n",
       "      <td>0</td>\n",
       "      <td>...</td>\n",
       "      <td>0</td>\n",
       "      <td>0</td>\n",
       "      <td>0</td>\n",
       "      <td>0</td>\n",
       "      <td>0</td>\n",
       "      <td>0</td>\n",
       "      <td>0</td>\n",
       "      <td>0</td>\n",
       "      <td>0</td>\n",
       "      <td>Class_1</td>\n",
       "    </tr>\n",
       "    <tr>\n",
       "      <th>2</th>\n",
       "      <td>0</td>\n",
       "      <td>0</td>\n",
       "      <td>0</td>\n",
       "      <td>0</td>\n",
       "      <td>0</td>\n",
       "      <td>0</td>\n",
       "      <td>0</td>\n",
       "      <td>1</td>\n",
       "      <td>0</td>\n",
       "      <td>0</td>\n",
       "      <td>...</td>\n",
       "      <td>0</td>\n",
       "      <td>0</td>\n",
       "      <td>0</td>\n",
       "      <td>0</td>\n",
       "      <td>0</td>\n",
       "      <td>0</td>\n",
       "      <td>0</td>\n",
       "      <td>0</td>\n",
       "      <td>0</td>\n",
       "      <td>Class_1</td>\n",
       "    </tr>\n",
       "    <tr>\n",
       "      <th>3</th>\n",
       "      <td>1</td>\n",
       "      <td>0</td>\n",
       "      <td>0</td>\n",
       "      <td>1</td>\n",
       "      <td>6</td>\n",
       "      <td>1</td>\n",
       "      <td>5</td>\n",
       "      <td>0</td>\n",
       "      <td>0</td>\n",
       "      <td>1</td>\n",
       "      <td>...</td>\n",
       "      <td>0</td>\n",
       "      <td>1</td>\n",
       "      <td>2</td>\n",
       "      <td>0</td>\n",
       "      <td>0</td>\n",
       "      <td>0</td>\n",
       "      <td>0</td>\n",
       "      <td>0</td>\n",
       "      <td>0</td>\n",
       "      <td>Class_1</td>\n",
       "    </tr>\n",
       "    <tr>\n",
       "      <th>4</th>\n",
       "      <td>0</td>\n",
       "      <td>0</td>\n",
       "      <td>0</td>\n",
       "      <td>0</td>\n",
       "      <td>0</td>\n",
       "      <td>0</td>\n",
       "      <td>0</td>\n",
       "      <td>0</td>\n",
       "      <td>0</td>\n",
       "      <td>0</td>\n",
       "      <td>...</td>\n",
       "      <td>1</td>\n",
       "      <td>0</td>\n",
       "      <td>0</td>\n",
       "      <td>0</td>\n",
       "      <td>0</td>\n",
       "      <td>1</td>\n",
       "      <td>0</td>\n",
       "      <td>0</td>\n",
       "      <td>0</td>\n",
       "      <td>Class_1</td>\n",
       "    </tr>\n",
       "  </tbody>\n",
       "</table>\n",
       "<p>5 rows × 94 columns</p>\n",
       "</div>"
      ],
      "text/plain": [
       "   feat_1  feat_2  feat_3  feat_4  feat_5  feat_6  feat_7  feat_8  feat_9  \\\n",
       "0       1       0       0       0       0       0       0       0       0   \n",
       "1       0       0       0       0       0       0       0       1       0   \n",
       "2       0       0       0       0       0       0       0       1       0   \n",
       "3       1       0       0       1       6       1       5       0       0   \n",
       "4       0       0       0       0       0       0       0       0       0   \n",
       "\n",
       "   feat_10   ...     feat_85  feat_86  feat_87  feat_88  feat_89  feat_90  \\\n",
       "0        0   ...           1        0        0        0        0        0   \n",
       "1        0   ...           0        0        0        0        0        0   \n",
       "2        0   ...           0        0        0        0        0        0   \n",
       "3        1   ...           0        1        2        0        0        0   \n",
       "4        0   ...           1        0        0        0        0        1   \n",
       "\n",
       "   feat_91  feat_92  feat_93   target  \n",
       "0        0        0        0  Class_1  \n",
       "1        0        0        0  Class_1  \n",
       "2        0        0        0  Class_1  \n",
       "3        0        0        0  Class_1  \n",
       "4        0        0        0  Class_1  \n",
       "\n",
       "[5 rows x 94 columns]"
      ]
     },
     "execution_count": 37,
     "metadata": {},
     "output_type": "execute_result"
    }
   ],
   "source": [
    "df.head(5)"
   ]
  },
  {
   "cell_type": "markdown",
   "metadata": {},
   "source": [
    "## Converting target column from string to numerical"
   ]
  },
  {
   "cell_type": "code",
   "execution_count": 38,
   "metadata": {
    "collapsed": true
   },
   "outputs": [],
   "source": [
    "from sklearn.preprocessing import LabelEncoder\n",
    "le = LabelEncoder()\n",
    "\n",
    "df['target'] = le.fit_transform(df['target'])"
   ]
  },
  {
   "cell_type": "markdown",
   "metadata": {},
   "source": [
    "## Looking at correlations between different columns and removing those that are highly correlated to minimize influence of these correlated columns on our models"
   ]
  },
  {
   "cell_type": "code",
   "execution_count": 39,
   "metadata": {},
   "outputs": [
    {
     "data": {
      "image/png": "[encoded data removed]",
      "text/plain": [
       "<matplotlib.figure.Figure at 0xcea7550>"
      ]
     },
     "metadata": {},
     "output_type": "display_data"
    }
   ],
   "source": [
    "df_corr = df.corr()\n",
    "# Set the default matplotlib figure size to 7x7:\n",
    "fix, ax = plt.subplots(figsize=(25,16))\n",
    "\n",
    "# Generate a mask for the upper triangle (taken from seaborn example gallery)\n",
    "mask = np.zeros_like(df_corr, dtype=np.bool)\n",
    "mask[np.triu_indices_from(mask)] = True\n",
    "\n",
    "# Plot the heatmap with seaborn.\n",
    "# Assign the matplotlib axis the function returns. This will let us resize the labels.\n",
    "ax = sns.heatmap(df_corr, mask=mask, ax=ax)\n",
    "\n",
    "# Resize the labels.\n",
    "ax.set_xticklabels(ax.xaxis.get_ticklabels(), fontsize=14)\n",
    "ax.set_yticklabels(ax.yaxis.get_ticklabels(), fontsize=14)\n",
    "\n",
    "# If you put plt.show() at the bottom, it prevents those useless printouts from matplotlib.\n",
    "plt.show()"
   ]
  },
  {
   "cell_type": "code",
   "execution_count": 40,
   "metadata": {
    "collapsed": true
   },
   "outputs": [],
   "source": [
    "X = df.drop(['target','feat_45'], axis=1)\n",
    "y = df['target']"
   ]
  },
  {
   "cell_type": "markdown",
   "metadata": {},
   "source": [
    "## Train test split. We split our dataset into 2 part. The 1st part consist of 70% of our dataset, which we will be using for training our model, and the 2nd part, with the remaining 30% as a test set to test how accurate our model is after training."
   ]
  },
  {
   "cell_type": "code",
   "execution_count": 41,
   "metadata": {
    "collapsed": true
   },
   "outputs": [],
   "source": [
    "#train test split\n",
    "X_train, X_test, y_train, y_test = train_test_split(X, y, train_size = 0.7, random_state = 7)"
   ]
  },
  {
   "cell_type": "markdown",
   "metadata": {},
   "source": [
    "## Before we start training our model, we need to look at our training set to see if there is any imbalance data"
   ]
  },
  {
   "cell_type": "code",
   "execution_count": 42,
   "metadata": {},
   "outputs": [
    {
     "data": {
      "text/plain": [
       "1    11285\n",
       "5     9924\n",
       "7     5962\n",
       "2     5554\n",
       "8     3442\n",
       "6     2004\n",
       "4     1911\n",
       "3     1865\n",
       "0     1367\n",
       "Name: target, dtype: int64"
      ]
     },
     "execution_count": 42,
     "metadata": {},
     "output_type": "execute_result"
    }
   ],
   "source": [
    "y_train.value_counts()"
   ]
  },
  {
   "cell_type": "markdown",
   "metadata": {},
   "source": [
    "## We can see that in our training set, there is a high number of data points coming from Category 1 and very little data points in category 0. The ratio of imbalance is about 10:1. This is worrying as if we leave it alone, the data points from category 1 will over-influence our model and cause our model to be less accurate"
   ]
  },
  {
   "cell_type": "markdown",
   "metadata": {},
   "source": [
    "### -  To handle the imbalanced dataset, i am going to use Synthetic Minority Oversampling Technique (SMOTE) which uses the K-Nearest Neighbour Approach and help oversample the minority class by creating synthetic spaces between these neighbours.\n",
    "\n",
    "### -  After using SMOTE, to further differentiate the different categories better, i use the technique TOMEK to remove Tomek Links. Here is an illustration of what it does\n",
    "\n",
    "<img src=\"files/imbdata4.png\">\n",
    "\n",
    "#### Credits: https://www.datasciencecentral.com/profiles/blogs/handling-imbalanced-data-sets-in-supervised-learning-using-family"
   ]
  },
  {
   "cell_type": "code",
   "execution_count": 43,
   "metadata": {
    "collapsed": true
   },
   "outputs": [],
   "source": [
    "##intention for SMOTETOMEK is that it solves the imbalance data set problem and helps distinguish better between different classes since it remove tomek links\n",
    "from imblearn.combine import SMOTETomek\n",
    "\n",
    "smt = SMOTETomek(random_state=42)\n",
    "X_train_res, y_train_res = smt.fit_sample(X_train, y_train)"
   ]
  },
  {
   "cell_type": "markdown",
   "metadata": {},
   "source": [
    "## The training data set is balanced now"
   ]
  },
  {
   "cell_type": "code",
   "execution_count": 44,
   "metadata": {},
   "outputs": [
    {
     "name": "stdout",
     "output_type": "stream",
     "text": [
      "[[    0 11283]\n",
      " [    1 11122]\n",
      " [    2 11128]\n",
      " [    3 11282]\n",
      " [    4 11285]\n",
      " [    5 11267]\n",
      " [    6 11282]\n",
      " [    7 11263]\n",
      " [    8 11279]]\n"
     ]
    }
   ],
   "source": [
    "unique, counts = np.unique(y_train_res, return_counts=True)\n",
    "print np.asarray((unique, counts)).T"
   ]
  },
  {
   "cell_type": "markdown",
   "metadata": {},
   "source": [
    "## Now we train our first machine learning model, a multinomial logistic regression model and see what is the accuracy on the test set. "
   ]
  },
  {
   "cell_type": "code",
   "execution_count": 45,
   "metadata": {},
   "outputs": [
    {
     "name": "stdout",
     "output_type": "stream",
     "text": [
      "testing accuracy: 0.713262227968\n",
      "             precision    recall  f1-score   support\n",
      "\n",
      "          0       0.35      0.66      0.46       562\n",
      "          1       0.78      0.56      0.65      4837\n",
      "          2       0.49      0.53      0.51      2450\n",
      "          3       0.31      0.65      0.42       826\n",
      "          4       0.93      0.97      0.95       828\n",
      "          5       0.97      0.87      0.91      4211\n",
      "          6       0.51      0.72      0.60       835\n",
      "          7       0.90      0.83      0.86      2502\n",
      "          8       0.81      0.80      0.80      1513\n",
      "\n",
      "avg / total       0.76      0.71      0.73     18564\n",
      "\n"
     ]
    }
   ],
   "source": [
    "logreg1 = LogisticRegression(multi_class='multinomial', solver='newton-cg')\n",
    "\n",
    "logreg1.fit(X_train_res, y_train_res)\n",
    "\n",
    "y1_pred = logreg1.predict(X_test)\n",
    "print 'testing accuracy: ' + str(logreg1.score(X_test, y_test))\n",
    "\n",
    "print classification_report(y_test, y1_pred)"
   ]
  },
  {
   "cell_type": "markdown",
   "metadata": {},
   "source": [
    "## There are several machine learning models we can use and it will take a long time to figure out which gives the best score. How can we find the best model to use that gives the best score? There is a python tool called TPOT Classifier that finds the best model and best hyperparameters to use."
   ]
  },
  {
   "cell_type": "code",
   "execution_count": 11,
   "metadata": {},
   "outputs": [
    {
     "data": {
      "text/plain": [
       "\"# Construct and fit TPOT classifier\\nstart_time = time.time()\\ntpot = TPOTClassifier(generations=5, verbosity=2, population_size=20, n_jobs=-1, random_state=7)\\ntpot.fit(X_train_res, y_train_res)\\nend_time = time.time()\\n\\n# Results\\nprint('TPOT classifier finished in %s seconds' % (end_time - start_time)) \\nprint('Best pipeline test accuracy: %.3f' % tpot.score(X_test, y_test))\\n\\n# Save best pipeline as Python script file\\ntpot.export('tpot_iris_pipeline.py')\""
      ]
     },
     "execution_count": 11,
     "metadata": {},
     "output_type": "execute_result"
    }
   ],
   "source": [
    "# Construct and fit TPOT classifier\n",
    "start_time = time.time()\n",
    "tpot = TPOTClassifier(generations=5, verbosity=2, population_size=20, n_jobs=-1, random_state=7)\n",
    "tpot.fit(X_train_res, y_train_res)\n",
    "end_time = time.time()\n",
    "\n",
    "# Results\n",
    "print('TPOT classifier finished in %s seconds' % (end_time - start_time)) \n",
    "print('Best pipeline test accuracy: %.3f' % tpot.score(X_test, y_test))\n",
    "\n",
    "# Save best pipeline as Python script file\n",
    "tpot.export('tpot_iris_pipeline.py')'''\n",
    "\n",
    "#t-pot code that identified ExtraTreesClassifier as best model. Best accuracy as compared to other models \n",
    "#i.e. logistic regression that gives accuracy of 0.76"
   ]
  },
  {
   "cell_type": "markdown",
   "metadata": {},
   "source": [
    "## After running the TPOT Classifier, the tool will give me the best pipeline for the best scoring model"
   ]
  },
  {
   "cell_type": "code",
   "execution_count": null,
   "metadata": {
    "collapsed": true
   },
   "outputs": [],
   "source": [
    "# %load tpot_iris_pipeline.py\n",
    "import numpy as np\n",
    "import pandas as pd\n",
    "from sklearn.ensemble import ExtraTreesClassifier\n",
    "from sklearn.model_selection import train_test_split\n",
    "\n",
    "# NOTE: Make sure that the class is labeled 'target' in the data file\n",
    "tpot_data = pd.read_csv('PATH/TO/DATA/FILE', sep='COLUMN_SEPARATOR', dtype=np.float64)\n",
    "features = tpot_data.drop('target', axis=1).values\n",
    "training_features, testing_features, training_target, testing_target = \\\n",
    "            train_test_split(features, tpot_data['target'].values, random_state=42)\n",
    "\n",
    "# Score on the training set was:0.912514046512\n",
    "exported_pipeline = ExtraTreesClassifier(bootstrap=False, criterion=\"gini\", max_features=0.2, min_samples_leaf=6, min_samples_split=16, n_estimators=100)\n",
    "\n",
    "exported_pipeline.fit(training_features, training_target)\n",
    "results = exported_pipeline.predict(testing_features)\n"
   ]
  },
  {
   "cell_type": "markdown",
   "metadata": {},
   "source": [
    "## There is a way to further improve the score, that is because TPOT Classifier uses the gradient descent approach and is not thorough enough to obtain the best hyperparameters. To further improve our model, we use GridSearch to find the best hyperparameters. "
   ]
  },
  {
   "cell_type": "code",
   "execution_count": 14,
   "metadata": {},
   "outputs": [
    {
     "name": "stdout",
     "output_type": "stream",
     "text": [
      "Fitting 5 folds for each of 1280 candidates, totalling 6400 fits\n"
     ]
    },
    {
     "name": "stderr",
     "output_type": "stream",
     "text": [
      "[Parallel(n_jobs=-2)]: Done  36 tasks      | elapsed: 10.2min\n",
      "[Parallel(n_jobs=-2)]: Done 186 tasks      | elapsed: 45.8min\n",
      "[Parallel(n_jobs=-2)]: Done 436 tasks      | elapsed: 104.8min\n",
      "[Parallel(n_jobs=-2)]: Done 786 tasks      | elapsed: 185.9min\n",
      "[Parallel(n_jobs=-2)]: Done 1236 tasks      | elapsed: 295.1min\n",
      "[Parallel(n_jobs=-2)]: Done 1786 tasks      | elapsed: 453.8min\n",
      "[Parallel(n_jobs=-2)]: Done 2436 tasks      | elapsed: 669.6min\n",
      "[Parallel(n_jobs=-2)]: Done 3186 tasks      | elapsed: 914.5min\n",
      "[Parallel(n_jobs=-2)]: Done 4036 tasks      | elapsed: 1261.3min\n",
      "[Parallel(n_jobs=-2)]: Done 4986 tasks      | elapsed: 1717.7min\n",
      "[Parallel(n_jobs=-2)]: Done 6036 tasks      | elapsed: 2280.4min\n",
      "[Parallel(n_jobs=-2)]: Done 6400 out of 6400 | elapsed: 2456.4min finished\n"
     ]
    },
    {
     "name": "stdout",
     "output_type": "stream",
     "text": [
      "[8 8 5 ..., 8 1 2]\n"
     ]
    }
   ],
   "source": [
    "#gridsearch to find best values for decision tree classifier\n",
    "gs_params = {'n_estimators': range(90,110), 'max_features': np.arange(0.1,0.5,0.1), 'min_samples_leaf': range(4,8), 'min_samples_split': range(14,18)}\n",
    "\n",
    "clf = GridSearchCV(ExtraTreesClassifier(), gs_params, cv=5, verbose=1, n_jobs=-2)\n",
    "clf.fit(X_train_res, y_train_res)\n",
    "\n",
    "pred = clf.predict(X_test)\n",
    "print pred"
   ]
  },
  {
   "cell_type": "code",
   "execution_count": 21,
   "metadata": {},
   "outputs": [
    {
     "data": {
      "text/plain": [
       "['grid.pkl']"
      ]
     },
     "execution_count": 21,
     "metadata": {},
     "output_type": "execute_result"
    }
   ],
   "source": [
    "#pickle\n",
    "from sklearn.externals import joblib\n",
    "joblib.dump(clf,'grid.pkl')\n",
    "clf = joblib.load('grid.pkl')"
   ]
  },
  {
   "cell_type": "markdown",
   "metadata": {},
   "source": [
    "## Gridsearch's best hyperparameters"
   ]
  },
  {
   "cell_type": "code",
   "execution_count": 17,
   "metadata": {},
   "outputs": [
    {
     "data": {
      "text/plain": [
       "{'max_features': 0.40000000000000002,\n",
       " 'min_samples_leaf': 4,\n",
       " 'min_samples_split': 14,\n",
       " 'n_estimators': 108}"
      ]
     },
     "execution_count": 17,
     "metadata": {},
     "output_type": "execute_result"
    }
   ],
   "source": [
    "clf.best_params_"
   ]
  },
  {
   "cell_type": "markdown",
   "metadata": {},
   "source": [
    "## Gridsearch hyperparameters improve our score from 0.8089 to 0.8158"
   ]
  },
  {
   "cell_type": "code",
   "execution_count": 47,
   "metadata": {},
   "outputs": [
    {
     "name": "stdout",
     "output_type": "stream",
     "text": [
      "0.815880198233\n",
      "             precision    recall  f1-score   support\n",
      "\n",
      "          0       0.64      0.59      0.61       562\n",
      "          1       0.77      0.80      0.79      4837\n",
      "          2       0.61      0.59      0.60      2450\n",
      "          3       0.72      0.59      0.65       826\n",
      "          4       0.97      0.97      0.97       828\n",
      "          5       0.96      0.92      0.94      4211\n",
      "          6       0.67      0.76      0.71       835\n",
      "          7       0.91      0.93      0.92      2502\n",
      "          8       0.85      0.90      0.88      1513\n",
      "\n",
      "avg / total       0.82      0.82      0.82     18564\n",
      "\n"
     ]
    }
   ],
   "source": [
    "from sklearn.ensemble import ExtraTreesClassifier\n",
    "\n",
    "extra_tree = ExtraTreesClassifier(bootstrap=False, criterion=\"gini\", max_features=0.4, min_samples_leaf=4, min_samples_split=14, n_estimators=108, random_state=7).fit(X_train_res, y_train_res)\n",
    "extra_tree_predictions = extra_tree.predict(X_test)\n",
    "\n",
    "accuracy = extra_tree.score(X_test, y_test)\n",
    "print accuracy\n",
    "print classification_report(y_test, extra_tree_predictions)\n",
    "#0.808985"
   ]
  },
  {
   "cell_type": "markdown",
   "metadata": {},
   "source": [
    "# Based on the classifcation report, we can see that there are a few product categories that has a low score. This could be due to these product categories having very similar features and thus causing the machine learning model to not accurately classify the category that they belong to.\n",
    "\n",
    "# Summary\n",
    "\n",
    "## The machine learning model can automatically classify new product listings to the right category with an accuracy of 81.59%. However, there are certain product categories that are harder to differentiate than the others, this causes the accuracy of new product listings from certain categories to have a higher chance of being classified wrongly. The worst scoring accuracy is identified at Category 2, which only has an accuracy score of 60%, significantly lower than the average of 81.59%. We therefore have to pay attention to certain product categories and check for misclassification should we implement the model OR we need more data from those product categories to train our model to differentiate better."
   ]
  },
  {
   "cell_type": "code",
   "execution_count": null,
   "metadata": {
    "collapsed": true
   },
   "outputs": [],
   "source": []
  }
 ],
 "metadata": {
  "kernelspec": {
   "display_name": "Python 2",
   "language": "python",
   "name": "python2"
  },
  "language_info": {
   "codemirror_mode": {
    "name": "ipython",
    "version": 2
   },
   "file_extension": ".py",
   "mimetype": "text/x-python",
   "name": "python",
   "nbconvert_exporter": "python",
   "pygments_lexer": "ipython2",
   "version": "2.7.14"
  }
 },
 "nbformat": 4,
 "nbformat_minor": 2
}
